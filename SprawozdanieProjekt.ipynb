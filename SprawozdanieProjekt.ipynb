{
 "cells": [
  {
   "cell_type": "markdown",
   "metadata": {},
   "source": [
    "# Sprawozdanie z laboratorium - sieci neuronowe\n",
    "\n",
    "Temat: Plant Seedlings Classification\n",
    "\n",
    "Skład grupy: Julia Blicharska, Weronika Deleżuch, Aleksandra Zalewska"
   ]
  },
  {
   "cell_type": "markdown",
   "metadata": {},
   "source": [
    "## Opis zadania\n",
    "\n",
    "- Na czym polega zadanie: Zadaniem jest wytrenowanie sieci neuronowej żeby na podstawie zdjęć odróżniała chwast od sadzonki roślin uprawnych.\n",
    "\n",
    "- Cel: Rozróżniać chwasty od sadzonek roślin uprawnych i podawanie nazwy danej rośliny.\n",
    "\n",
    "\n",
    "\n",
    "\n",
    "\n",
    "\n",
    "\n"
   ]
  },
  {
   "cell_type": "markdown",
   "metadata": {},
   "source": [
    "## Dane\n",
    "\n",
    "Danymi są zdjęcia sadzonek roślin uprawnych na różnym poziomie rozwoju. Roślinek jest 12 gatunków."
   ]
  },
  {
   "cell_type": "markdown",
   "metadata": {},
   "source": [
    "### Źródła danych\n",
    "\n",
    "https://www.kaggle.com/c/plant-seedlings-classification/data\n",
    "\n",
    "Dane pochodzą ze strony konkursu na stronie Kaggle. Są ogólnodostępne dla każdego po utworzeniu konta na Kaggle."
   ]
  },
  {
   "cell_type": "markdown",
   "metadata": {},
   "source": [
    "## Model\n",
    "\n",
    "### Wczytanie danych\n",
    "\n",
    "### Pobranie bibliotek\n",
    "\n",
    "### Nadanie klas zdjęciom \n",
    "\n",
    "### Ustawienie jednakowych rozmiarów dla wszystkich zdjęć \n",
    "\n",
    "### Dane treningowe \n",
    "\n",
    "### Dane testowe \n",
    "\n",
    "### Opis\n",
    "Ta sieć jest siecią SFL - Super Fast Learning. Wybraliśmy ją z powodu szybkiego czasu nauki sieci.\n",
    "Nasz model zamienia dodane zdjęcia na macierze i na ich podstawi ocenia, która to roślina.\n",
    "\n",
    "### Działanie\n",
    "\n",
    "Aby uruchomić model trzeba wczytać dane, wgrać odpowiednie biblioteki, wybrać część danych jako dane treningowe i część jako dane testowe."
   ]
  },
  {
   "cell_type": "markdown",
   "metadata": {},
   "source": [
    "## Podsumowanie\n",
    "\n",
    "Krótki opis danych, co udało się osiągnąć dzięki modelowi.\n",
    "\n",
    "Czy model działa poprawnie, co w ćwiczeniu było łatwe/trudne, co można poprawić, dalej rozwinąć itp"
   ]
  }
 ],
 "metadata": {
  "kernelspec": {
   "display_name": "Python 3",
   "language": "python",
   "name": "python3"
  },
  "language_info": {
   "codemirror_mode": {
    "name": "ipython",
    "version": 3
   },
   "file_extension": ".py",
   "mimetype": "text/x-python",
   "name": "python",
   "nbconvert_exporter": "python",
   "pygments_lexer": "ipython3",
   "version": "3.7.4"
  }
 },
 "nbformat": 4,
 "nbformat_minor": 4
}
