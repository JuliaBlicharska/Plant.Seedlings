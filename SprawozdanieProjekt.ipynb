{
 "cells": [
  {
   "cell_type": "markdown",
   "metadata": {},
   "source": [
    "# Sprawozdanie z laboratorium - sieci neuronowe\n",
    "\n",
    "Temat: Plant Seedlings Classification\n",
    "\n",
    "Skład grupy: Julia Blicharska, Weronika Deleżuch, Aleksandra Zalewska"
   ]
  },
  {
   "cell_type": "markdown",
   "metadata": {},
   "source": [
    "## Opis zadania\n",
    "\n",
    "- Na czym polega zadanie: Zadaniem jest wytrenowanie sieci neuronowej żeby na podstawie zdjęć odróżniała chwast od sadzonki roślin uprawnych.\n",
    "\n",
    "- Cel: Rozróżniać chwasty od sadzonek roślin uprawnych i podawanie nazwy danej rośliny.\n",
    "\n",
    "\n",
    "\n",
    "\n",
    "\n",
    "\n",
    "\n"
   ]
  },
  {
   "cell_type": "markdown",
   "metadata": {},
   "source": [
    "## Dane\n",
    "\n",
    "Danymi są zdjęcia sadzonek roślin uprawnych na różnym poziomie rozwoju. Roślinek jest 12 gatunków."
   ]
  },
  {
   "cell_type": "markdown",
   "metadata": {},
   "source": [
    "### Źródła danych\n",
    "\n",
    "https://www.kaggle.com/c/plant-seedlings-classification/data\n",
    "\n",
    "Dane pochodzą ze strony konkursu na stronie Kaggle. Są ogólnodostępne dla każdego po utworzeniu konta na Kaggle."
   ]
  },
  {
   "cell_type": "markdown",
   "metadata": {},
   "source": [
    "## Model\n",
    "\n",
    "### Wczytanie danych\n",
     "\n",
     "source": [
    "# Wstawianie obrazów do notebooka opcja 2 (jupyter display):\n",
    "\n",
    "from IPython.display import Image\n",
    "Image(filename=\"stop45.png\")"
   ]
  },
     "### Pobranie bibliotek\n",
     "\n",
     "### Nadanie klas zdjęciom \n",
     "\n",
     "### Ustawienie jednakowych rozmiarów dla wszystkich zdjęć \n",
     "\n",
    "### Opis\n",
    "- rodzaj sieci neuronowej (i dlaczego)\n",
    "- opis architektury\n",
    "- hiperparametry, funkcja kosztu\n",
    "\n",
    "### Działanie\n",
    "\n",
    "- jak uruchomić model\n",
    "- testy\n",
    "- wyniki"
   ]
  },
  {
   "cell_type": "markdown",
   "metadata": {},
   "source": [
    "## Podsumowanie\n",
    "\n",
    "Krótki opis danych, co udało się osiągnąć dzięki modelowi.\n",
    "\n",
    "Czy model działa poprawnie, co w ćwiczeniu było łatwe/trudne, co można poprawić, dalej rozwinąć itp"
   ]
  }
 ],
 "metadata": {
  "kernelspec": {
   "display_name": "Python 3",
   "language": "python",
   "name": "python3"
  },
  "language_info": {
   "codemirror_mode": {
    "name": "ipython",
    "version": 3
   },
   "file_extension": ".py",
   "mimetype": "text/x-python",
   "name": "python",
   "nbconvert_exporter": "python",
   "pygments_lexer": "ipython3",
   "version": "3.7.4"
  }
 },
 "nbformat": 4,
 "nbformat_minor": 4
}
