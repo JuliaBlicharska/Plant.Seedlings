{
 "cells": [
  {
   "cell_type": "markdown",
   "metadata": {},
   "source": [
    "# Sprawozdanie z laboratorium - sieci neuronowe\n",
    "\n",
    "Temat: Plant Seedlings Classification\n",
    "\n",
    "Skład grupy: Julia Blicharska, Weronika Deleżuch, Aleksandra Zalewska"
   ]
  },
  {
   "cell_type": "markdown",
   "metadata": {},
   "source": [
    "## Opis zadania\n",
    "\n",
    "- Na czym polega zadanie: Zadaniem jest wytrenowanie sieci neuronowej żeby na podstawie zdjęć odróżniała chwast od sadzonki roślin uprawnych.\n",
    "\n",
    "- Cel: Rozróżniać chwasty od sadzonek roślin uprawnych i podawanie nazwy danej rośliny.\n",
    "\n",
    "\n",
    "\n",
    "\n",
    "\n",
    "\n",
    "\n"
   ]
  },
  {
   "cell_type": "markdown",
   "metadata": {},
   "source": [
    "## Dane\n",
    "\n",
    "Danymi są zdjęcia sadzonek roślin uprawnych na różnym poziomie rozwoju. Roślinek jest 12 gatunków."
   ]
  },
  {
   "cell_type": "markdown",
   "metadata": {},
   "source": [
    "### Źródła danych\n",
    "\n",
    "https://www.kaggle.com/c/plant-seedlings-classification/data\n",
    "\n",
    "Dane pochodzą ze strony konkursu na stronie Kaggle. Są ogólnodostępne dla każdego po utworzeniu konta na Kaggle."
   ]
  },
  {
   "cell_type": "markdown",
   "metadata": {},
   "source": [
    "## Model\n",
    "\n",
    "### Wczytanie danych\n",
     "\n",
     {
   "cell_type": "code",
   "execution_count": 1,
   "metadata": {},
   "outputs": [
    {
     "name": "stderr",
     "output_type": "stream",
     "text": [
      "Using TensorFlow backend.\n"
     ]
    }
   ],
   "source": [
    # This Python 3 environment comes with many helpful analytics libraries installed
# It is defined by the kaggle/python docker image: https://github.com/kaggle/docker-python
# For example, here's several helpful packages to load in 

import numpy as np # linear algebra
import pandas as pd # data processing, CSV file I/O (e.g. pd.read_csv)

# Input data files are available in the "../input/" directory.
# For example, running this (by clicking run or pressing Shift+Enter) will list all files under the input directory

import os
for dirname, _, filenames in os.walk('/kaggle/input'):
    for filename in filenames:
        print(os.path.join(dirname, filename))

# Any results you write to the current directory are saved as output.
      ]
  },
    "### Opis\n",
    "- rodzaj sieci neuronowej (i dlaczego)\n",
    "- opis architektury\n",
    "- hiperparametry, funkcja kosztu\n",
    "\n",
    "### Działanie\n",
    "\n",
    "- jak uruchomić model\n",
    "- testy\n",
    "- wyniki"
   ]
  },
  {
   "cell_type": "markdown",
   "metadata": {},
   "source": [
    "## Podsumowanie\n",
    "\n",
    "Krótki opis danych, co udało się osiągnąć dzięki modelowi.\n",
    "\n",
    "Czy model działa poprawnie, co w ćwiczeniu było łatwe/trudne, co można poprawić, dalej rozwinąć itp"
   ]
  }
 ],
 "metadata": {
  "kernelspec": {
   "display_name": "Python 3",
   "language": "python",
   "name": "python3"
  },
  "language_info": {
   "codemirror_mode": {
    "name": "ipython",
    "version": 3
   },
   "file_extension": ".py",
   "mimetype": "text/x-python",
   "name": "python",
   "nbconvert_exporter": "python",
   "pygments_lexer": "ipython3",
   "version": "3.7.4"
  }
 },
 "nbformat": 4,
 "nbformat_minor": 4
}
